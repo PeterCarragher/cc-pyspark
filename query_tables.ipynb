{
 "cells": [
  {
   "cell_type": "code",
   "execution_count": 1,
   "metadata": {},
   "outputs": [
    {
     "name": "stderr",
     "output_type": "stream",
     "text": [
      "your 131072x1 screen size is bogus. expect trouble\n",
      "24/01/27 16:57:44 WARN Utils: Your hostname, GS22411 resolves to a loopback address: 127.0.1.1; using 172.19.21.106 instead (on interface eth0)\n",
      "24/01/27 16:57:44 WARN Utils: Set SPARK_LOCAL_IP if you need to bind to another address\n",
      "Setting default log level to \"WARN\".\n",
      "To adjust logging level use sc.setLogLevel(newLevel). For SparkR, use setLogLevel(newLevel).\n",
      "24/01/27 16:57:54 WARN NativeCodeLoader: Unable to load native-hadoop library for your platform... using builtin-java classes where applicable\n"
     ]
    },
    {
     "name": "stdout",
     "output_type": "stream",
     "text": [
      "Error processing spark-warehouse/output_table_0003: [UNABLE_TO_INFER_SCHEMA] Unable to infer schema for Parquet. It must be specified manually.\n"
     ]
    },
    {
     "ename": "AttributeError",
     "evalue": "'NoneType' object has no attribute 'show'",
     "output_type": "error",
     "traceback": [
      "\u001b[0;31m---------------------------------------------------------------------------\u001b[0m",
      "\u001b[0;31mAttributeError\u001b[0m                            Traceback (most recent call last)",
      "Cell \u001b[0;32mIn[1], line 23\u001b[0m\n\u001b[1;32m     20\u001b[0m         \u001b[38;5;28mprint\u001b[39m(\u001b[38;5;124mf\u001b[39m\u001b[38;5;124m\"\u001b[39m\u001b[38;5;124mError processing \u001b[39m\u001b[38;5;132;01m{\u001b[39;00mfile_name\u001b[38;5;132;01m}\u001b[39;00m\u001b[38;5;124m: \u001b[39m\u001b[38;5;132;01m{\u001b[39;00me\u001b[38;5;132;01m}\u001b[39;00m\u001b[38;5;124m\"\u001b[39m)\n\u001b[1;32m     21\u001b[0m         \u001b[38;5;28;01mreturn\u001b[39;00m \u001b[38;5;28;01mNone\u001b[39;00m\n\u001b[0;32m---> 23\u001b[0m \u001b[43mquery_table\u001b[49m\u001b[43m(\u001b[49m\u001b[38;5;124;43m\"\u001b[39;49m\u001b[38;5;124;43mspark-warehouse/output_table_0003\u001b[39;49m\u001b[38;5;124;43m\"\u001b[39;49m\u001b[43m)\u001b[49m\u001b[38;5;241;43m.\u001b[39;49m\u001b[43mshow\u001b[49m(\u001b[38;5;241m10\u001b[39m)\n",
      "\u001b[0;31mAttributeError\u001b[0m: 'NoneType' object has no attribute 'show'"
     ]
    }
   ],
   "source": [
    "from os import listdir\n",
    "from os.path import isfile, join\n",
    "from pyspark.sql import SparkSession\n",
    "from pyspark.sql.utils import AnalysisException\n",
    "from pyspark.sql.functions import sum as spark_sum, col, collect_list\n",
    "spark = SparkSession.builder.appName(\"QueryScript\").getOrCreate()\n",
    "\n",
    "def query_table(file_name):\n",
    "    try:\n",
    "        df = spark.read.parquet(file_name)\n",
    "        df.createOrReplaceTempView(\"test_df\")\n",
    "        result = spark.sql(\"\"\"\n",
    "            SELECT s, t, c_list, size(c_list) as num_pages,\n",
    "                aggregate(c_list, 0, (x, y) -> x + y) as details_sum\n",
    "            FROM test_df ORDER BY details_sum DESC\n",
    "        \"\"\")\n",
    "        return result\n",
    "    except AnalysisException as e:\n",
    "        # Catch and ignore errors\n",
    "        print(f\"Error processing {file_name}: {e}\")\n",
    "        return None\n",
    "    \n",
    "query_table(\"spark-warehouse/output_table_0003\").show(10)"
   ]
  },
  {
   "cell_type": "code",
   "execution_count": 11,
   "metadata": {},
   "outputs": [
    {
     "name": "stdout",
     "output_type": "stream",
     "text": [
      "spark-warehouse/output_table_0001\n",
      "Error processing spark-warehouse/output_table_0001: [UNABLE_TO_INFER_SCHEMA] Unable to infer schema for Parquet. It must be specified manually.\n",
      "Error processing spark-warehouse/old_outputs: [UNABLE_TO_INFER_SCHEMA] Unable to infer schema for Parquet. It must be specified manually.\n",
      "1\n",
      "+---+---+---------------+-----------------+---------+-----+\n",
      "|s  |t  |total_num_pages|total_details_sum|link_dist|ratio|\n",
      "+---+---+---------------+-----------------+---------+-----+\n",
      "+---+---+---------------+-----------------+---------+-----+\n",
      "\n"
     ]
    }
   ],
   "source": [
    "def query_all_tables(directory):\n",
    "    files = [f for f in listdir(directory)]\n",
    "    \n",
    "    all_results = []\n",
    "    print(join(directory, files[0]))\n",
    "    for file_name in files:\n",
    "        \n",
    "        result_df = query_table(join(directory, file_name))\n",
    "        if result_df:\n",
    "            all_results.append(result_df)\n",
    "\n",
    "    print(len(all_results))\n",
    "\n",
    "    # Merge all DataFrames and group by s and t\n",
    "    merged_df = all_results[0] if all_results else None\n",
    "    for df in all_results[1:]:\n",
    "        merged_df = merged_df.union(df)\n",
    "\n",
    "    grouped_df = merged_df.groupBy(\"s\", \"t\").agg(\n",
    "        spark_sum(\"num_pages\").alias(\"total_num_pages\"),\n",
    "        spark_sum(\"details_sum\").alias(\"total_details_sum\"),\n",
    "        collect_list(\"c_list\").alias(\"link_dist\"),\n",
    "    )\n",
    "    grouped_df = grouped_df.withColumn(\"ratio\", col(\"total_details_sum\") / col(\"total_num_pages\"))\n",
    "    return grouped_df\n",
    "\n",
    "df_link_counts = query_all_tables(\"spark-warehouse/\")\n",
    "ordered_df = df_link_counts.orderBy(\"ratio\", ascending=False)\n",
    "ordered_df.show(5, truncate=False)"
   ]
  },
  {
   "cell_type": "code",
   "execution_count": 7,
   "metadata": {},
   "outputs": [
    {
     "data": {
      "text/html": [
       "<div>\n",
       "<style scoped>\n",
       "    .dataframe tbody tr th:only-of-type {\n",
       "        vertical-align: middle;\n",
       "    }\n",
       "\n",
       "    .dataframe tbody tr th {\n",
       "        vertical-align: top;\n",
       "    }\n",
       "\n",
       "    .dataframe thead th {\n",
       "        text-align: right;\n",
       "    }\n",
       "</style>\n",
       "<table border=\"1\" class=\"dataframe\">\n",
       "  <thead>\n",
       "    <tr style=\"text-align: right;\">\n",
       "      <th></th>\n",
       "      <th>total_num_pages</th>\n",
       "      <th>total_details_sum</th>\n",
       "      <th>ratio</th>\n",
       "    </tr>\n",
       "  </thead>\n",
       "  <tbody>\n",
       "    <tr>\n",
       "      <th>count</th>\n",
       "      <td>5048.000000</td>\n",
       "      <td>5048.000000</td>\n",
       "      <td>5048.000000</td>\n",
       "    </tr>\n",
       "    <tr>\n",
       "      <th>mean</th>\n",
       "      <td>19.007528</td>\n",
       "      <td>63.966125</td>\n",
       "      <td>1.195848</td>\n",
       "    </tr>\n",
       "    <tr>\n",
       "      <th>std</th>\n",
       "      <td>149.139678</td>\n",
       "      <td>1854.702262</td>\n",
       "      <td>1.396932</td>\n",
       "    </tr>\n",
       "    <tr>\n",
       "      <th>min</th>\n",
       "      <td>1.000000</td>\n",
       "      <td>1.000000</td>\n",
       "      <td>1.000000</td>\n",
       "    </tr>\n",
       "    <tr>\n",
       "      <th>25%</th>\n",
       "      <td>1.000000</td>\n",
       "      <td>1.000000</td>\n",
       "      <td>1.000000</td>\n",
       "    </tr>\n",
       "    <tr>\n",
       "      <th>50%</th>\n",
       "      <td>1.000000</td>\n",
       "      <td>1.000000</td>\n",
       "      <td>1.000000</td>\n",
       "    </tr>\n",
       "    <tr>\n",
       "      <th>75%</th>\n",
       "      <td>1.000000</td>\n",
       "      <td>1.000000</td>\n",
       "      <td>1.000000</td>\n",
       "    </tr>\n",
       "    <tr>\n",
       "      <th>max</th>\n",
       "      <td>1765.000000</td>\n",
       "      <td>123550.000000</td>\n",
       "      <td>70.000000</td>\n",
       "    </tr>\n",
       "  </tbody>\n",
       "</table>\n",
       "</div>"
      ],
      "text/plain": [
       "       total_num_pages  total_details_sum        ratio\n",
       "count      5048.000000        5048.000000  5048.000000\n",
       "mean         19.007528          63.966125     1.195848\n",
       "std         149.139678        1854.702262     1.396932\n",
       "min           1.000000           1.000000     1.000000\n",
       "25%           1.000000           1.000000     1.000000\n",
       "50%           1.000000           1.000000     1.000000\n",
       "75%           1.000000           1.000000     1.000000\n",
       "max        1765.000000      123550.000000    70.000000"
      ]
     },
     "execution_count": 7,
     "metadata": {},
     "output_type": "execute_result"
    }
   ],
   "source": [
    "df_link_dists = ordered_df.toPandas()\n",
    "df_link_dists.describe()"
   ]
  },
  {
   "cell_type": "code",
   "execution_count": 8,
   "metadata": {},
   "outputs": [
    {
     "data": {
      "text/html": [
       "<div>\n",
       "<style scoped>\n",
       "    .dataframe tbody tr th:only-of-type {\n",
       "        vertical-align: middle;\n",
       "    }\n",
       "\n",
       "    .dataframe tbody tr th {\n",
       "        vertical-align: top;\n",
       "    }\n",
       "\n",
       "    .dataframe thead th {\n",
       "        text-align: right;\n",
       "    }\n",
       "</style>\n",
       "<table border=\"1\" class=\"dataframe\">\n",
       "  <thead>\n",
       "    <tr style=\"text-align: right;\">\n",
       "      <th></th>\n",
       "      <th>total_num_pages</th>\n",
       "      <th>total_details_sum</th>\n",
       "      <th>ratio</th>\n",
       "      <th>label</th>\n",
       "    </tr>\n",
       "  </thead>\n",
       "  <tbody>\n",
       "    <tr>\n",
       "      <th>count</th>\n",
       "      <td>136.000000</td>\n",
       "      <td>136.000000</td>\n",
       "      <td>136.000000</td>\n",
       "      <td>136.000000</td>\n",
       "    </tr>\n",
       "    <tr>\n",
       "      <th>mean</th>\n",
       "      <td>2.867647</td>\n",
       "      <td>3.058824</td>\n",
       "      <td>1.066375</td>\n",
       "      <td>4.691176</td>\n",
       "    </tr>\n",
       "    <tr>\n",
       "      <th>std</th>\n",
       "      <td>5.076903</td>\n",
       "      <td>5.313525</td>\n",
       "      <td>0.248721</td>\n",
       "      <td>0.704638</td>\n",
       "    </tr>\n",
       "    <tr>\n",
       "      <th>min</th>\n",
       "      <td>1.000000</td>\n",
       "      <td>1.000000</td>\n",
       "      <td>1.000000</td>\n",
       "      <td>1.000000</td>\n",
       "    </tr>\n",
       "    <tr>\n",
       "      <th>25%</th>\n",
       "      <td>1.000000</td>\n",
       "      <td>1.000000</td>\n",
       "      <td>1.000000</td>\n",
       "      <td>5.000000</td>\n",
       "    </tr>\n",
       "    <tr>\n",
       "      <th>50%</th>\n",
       "      <td>1.000000</td>\n",
       "      <td>1.000000</td>\n",
       "      <td>1.000000</td>\n",
       "      <td>5.000000</td>\n",
       "    </tr>\n",
       "    <tr>\n",
       "      <th>75%</th>\n",
       "      <td>3.000000</td>\n",
       "      <td>3.000000</td>\n",
       "      <td>1.000000</td>\n",
       "      <td>5.000000</td>\n",
       "    </tr>\n",
       "    <tr>\n",
       "      <th>max</th>\n",
       "      <td>53.000000</td>\n",
       "      <td>54.000000</td>\n",
       "      <td>3.000000</td>\n",
       "      <td>5.000000</td>\n",
       "    </tr>\n",
       "  </tbody>\n",
       "</table>\n",
       "</div>"
      ],
      "text/plain": [
       "       total_num_pages  total_details_sum       ratio       label\n",
       "count       136.000000         136.000000  136.000000  136.000000\n",
       "mean          2.867647           3.058824    1.066375    4.691176\n",
       "std           5.076903           5.313525    0.248721    0.704638\n",
       "min           1.000000           1.000000    1.000000    1.000000\n",
       "25%           1.000000           1.000000    1.000000    5.000000\n",
       "50%           1.000000           1.000000    1.000000    5.000000\n",
       "75%           3.000000           3.000000    1.000000    5.000000\n",
       "max          53.000000          54.000000    3.000000    5.000000"
      ]
     },
     "execution_count": 8,
     "metadata": {},
     "output_type": "execute_result"
    }
   ],
   "source": [
    "import pandas as pd\n",
    "import numpy as np\n",
    "\n",
    "def reverse_url(url):\n",
    "    components = url.split('.')\n",
    "    reversed_url = '.'.join(components[::-1])\n",
    "    return reversed_url\n",
    "\n",
    "def is_substring(row, col_a, col_b):\n",
    "    return row[col_a] not in row[col_b]\n",
    "\n",
    "df_link_dists['t'] = df_link_dists['t'].apply(reverse_url)\n",
    "df_link_dists['s'] = df_link_dists['s'].apply(reverse_url)\n",
    "\n",
    "labels = pd.read_csv('../../submitted/link_scheme_removal/data/attributes.csv')[['url','label']]\n",
    "df_link_dists_labelled = df_link_dists.merge(right=labels, left_on='t', right_on='url', how='inner')\n",
    "df_link_dists_labelled = df_link_dists_labelled[~df_link_dists_labelled.apply(lambda row: row['t'] in row['s'], axis=1)]\n",
    "df_link_dists_labelled = df_link_dists_labelled[~df_link_dists_labelled.apply(lambda row: row['s'] in row['t'], axis=1)]\n",
    "df_link_dists_labelled['link_dist'] = df_link_dists_labelled['link_dist'].apply(np.concatenate)\n",
    "df_link_dists_labelled.describe()"
   ]
  },
  {
   "cell_type": "code",
   "execution_count": 9,
   "metadata": {},
   "outputs": [
    {
     "name": "stderr",
     "output_type": "stream",
     "text": [
      "/home/peter/miniconda3/envs/lsr/lib/python3.12/site-packages/pandas/core/algorithms.py:1743: RuntimeWarning: Precision loss occurred in moment calculation due to catastrophic cancellation. This occurs when the data are nearly identical. Results may be unreliable.\n",
      "  return lib.map_infer(values, mapper, convert=convert)\n"
     ]
    },
    {
     "data": {
      "text/plain": [
       "<Axes: xlabel='label', ylabel='mean'>"
      ]
     },
     "execution_count": 9,
     "metadata": {},
     "output_type": "execute_result"
    },
    {
     "data": {
      "image/png": "[encoded data removed]",
      "text/plain": [
       "<Figure size 640x480 with 1 Axes>"
      ]
     },
     "metadata": {},
     "output_type": "display_data"
    }
   ],
   "source": [
    "from scipy.stats import skew\n",
    "import seaborn as sns\n",
    "df_link_source_dists_labelled = df_link_dists_labelled.groupby(['s', 'label'])['link_dist'].agg(list).reset_index()\n",
    "df_link_source_dists_labelled['link_dist'] = df_link_source_dists_labelled['link_dist'].apply(np.concatenate)\n",
    "\n",
    "# # Reset the index to make 's' and 'label' regular columns\n",
    "# df_link_source_dists_labelled = df_link_source_dists_labelled.reset_index()\n",
    "df_link_source_dists_labelled.head()\n",
    "\n",
    "\n",
    "# df_label_dists = df_label_dists.reset_index(drop=True)\n",
    "# df_label_dists = pd.DataFrame(df_label_dists)\n",
    "# # df_label_dists_exploded = df_label_dists.explode('skew')\n",
    "# # df_label_dists['skew'] = df_label_dists['skew'].apply(np.concatenate)\n",
    "# # df_label_dists['skew_filtered'] = df_label_dists['skew']#.apply(lambda x: [value for value in x if value > 10 and value != 29])\n",
    "# sns.boxplot(x='label', y='skew', data=df_label_dists.explode('skew'),log_scale=True)\n",
    "\n",
    "df_link_source_dists_labelled['mean'] = df_link_source_dists_labelled['link_dist'].apply(np.mean)\n",
    "df_link_source_dists_labelled['skew'] = df_link_source_dists_labelled['link_dist'].apply(skew)\n",
    "# df_link_source_dists_labelled = df_link_dists_labelled.groupby(['s', 'label'])['skew'].agg(list).reset_index()\n",
    "sns.boxplot(x='label', y='mean', data=df_link_source_dists_labelled.explode('mean'), showfliers=False)"
   ]
  },
  {
   "cell_type": "code",
   "execution_count": 10,
   "metadata": {},
   "outputs": [
    {
     "data": {
      "text/plain": [
       "<Axes: xlabel='label', ylabel='link_dist_filtered'>"
      ]
     },
     "execution_count": 10,
     "metadata": {},
     "output_type": "execute_result"
    },
    {
     "data": {
      "image/png": "[encoded data removed]",
      "text/plain": [
       "<Figure size 640x480 with 1 Axes>"
      ]
     },
     "metadata": {},
     "output_type": "display_data"
    }
   ],
   "source": [
    "import seaborn as sns\n",
    "df_label_dists = df_link_dists_labelled.groupby('label')['link_dist'].agg(list).reset_index()\n",
    "df_label_dists['link_dist'] = df_label_dists['link_dist'].apply(np.concatenate)\n",
    "df_label_dists['link_dist_filtered'] = df_label_dists['link_dist']#.apply(lambda x: [value for value in x if value > 10 and value != 29])\n",
    "sns.boxplot(x='label', y='link_dist_filtered', data=df_label_dists.explode('link_dist_filtered'),log_scale=True)"
   ]
  },
  {
   "cell_type": "code",
   "execution_count": null,
   "metadata": {},
   "outputs": [],
   "source": [
    "df_label_source_dists = df_link_dists_labelled.groupby('')['link_dist'].agg(list).reset_index()\n"
   ]
  }
 ],
 "metadata": {
  "kernelspec": {
   "display_name": "lsr",
   "language": "python",
   "name": "python3"
  },
  "language_info": {
   "codemirror_mode": {
    "name": "ipython",
    "version": 3
   },
   "file_extension": ".py",
   "mimetype": "text/x-python",
   "name": "python",
   "nbconvert_exporter": "python",
   "pygments_lexer": "ipython3",
   "version": "3.12.1"
  }
 },
 "nbformat": 4,
 "nbformat_minor": 2
}
